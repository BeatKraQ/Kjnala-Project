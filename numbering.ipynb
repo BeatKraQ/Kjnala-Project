{
 "cells": [
  {
   "cell_type": "code",
   "execution_count": null,
   "metadata": {},
   "outputs": [],
   "source": [
    "import pandas as pd \n",
    "data = pd.read_csv('통합.csv', encoding = 'cp949')# Replace with your data file"
   ]
  },
  {
   "cell_type": "code",
   "execution_count": null,
   "metadata": {},
   "outputs": [],
   "source": [
    "a_b_split = data['integrated_category'].str.split('_', expand=True)\n",
    "a = a_b_split[0]\n",
    "b = a_b_split[1]\n",
    "\n",
    "a_int = a.astype(int)\n",
    "z = (a_int > 11) & (a_int < 100)\n",
    "z_indices = z[z].index.tolist() \n",
    "\n",
    "# Step 3: For 'a' and 'b' that are in index 'z', save them as variables 'c' and 'd' respectively\n",
    "c = a[z]\n",
    "d = b[z]\n",
    "\n",
    "c = (c.astype(int) - 1).astype(str)\n",
    "e = c.copy()  # Make a copy of 'c' to avoid modifying it directly\n",
    "e[d.notna()] = c[d.notna()] + '_' + d[d.notna()]\n",
    "\n",
    "data.loc[z_indices, 'integrated_category'] = e"
   ]
  },
  {
   "cell_type": "code",
   "execution_count": null,
   "metadata": {},
   "outputs": [],
   "source": [
    "data.to_csv('통합.csv', index=False, encoding='cp949')"
   ]
  }
 ],
 "metadata": {
  "kernelspec": {
   "display_name": "Python 3.8.18 ('stock')",
   "language": "python",
   "name": "python3"
  },
  "language_info": {
   "name": "python",
   "version": "3.8.18"
  },
  "orig_nbformat": 4,
  "vscode": {
   "interpreter": {
    "hash": "2c48fe3414470e0e78456d36ccc4d279ba5f3d2668e7351207bf0b3dbee7a716"
   }
  }
 },
 "nbformat": 4,
 "nbformat_minor": 2
}
